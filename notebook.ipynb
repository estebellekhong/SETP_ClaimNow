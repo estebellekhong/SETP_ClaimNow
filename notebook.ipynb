{
 "cells": [
  {
   "cell_type": "code",
   "execution_count": 6,
   "id": "d2023972",
   "metadata": {},
   "outputs": [],
   "source": [
    "import mysql.connector\n",
    "from mysql.connector import Error"
   ]
  },
  {
   "cell_type": "code",
   "execution_count": 7,
   "id": "d508e88d",
   "metadata": {},
   "outputs": [],
   "source": [
    "## Google Cloud Xampp mysql authentication info\n",
    "dbHost=\"34.87.75.110\"\n",
    "dbDatabase=\"ClaimNow\"\n",
    "dbUser=\"claimnow_admin\"\n",
    "dbPassword=\"P@$$word\"\n",
    "dbPort=\"3306\""
   ]
  },
  {
   "cell_type": "code",
   "execution_count": 8,
   "id": "91efdc9d",
   "metadata": {},
   "outputs": [
    {
     "name": "stdout",
     "output_type": "stream",
     "text": [
      "Connected to MySQL Server version  5.5.5-10.4.24-MariaDB\n"
     ]
    }
   ],
   "source": [
    "# establish connection \n",
    "connection = mysql.connector.connect(host=dbHost,\n",
    "                                     database=dbDatabase,\n",
    "                                     user=dbUser,\n",
    "                                     password=dbPassword,\n",
    "                                     port=dbPort)\n",
    "\n",
    "db_Info = connection.get_server_info()\n",
    "#checking connection\n",
    "print(\"Connected to MySQL Server version \", db_Info)\n"
   ]
  },
  {
   "cell_type": "code",
   "execution_count": 17,
   "id": "e4256ec0",
   "metadata": {},
   "outputs": [],
   "source": [
    "# execute db qry \n",
    "cursor = connection.cursor()\n",
    "cursor.execute(\"select Login_ID, Login_Password from user\")"
   ]
  },
  {
   "cell_type": "code",
   "execution_count": 18,
   "id": "5123c8ea",
   "metadata": {},
   "outputs": [
    {
     "name": "stdout",
     "output_type": "stream",
     "text": [
      "('admin@claimnow.com', 'admin123')\n",
      "('wong_kk@claimnow.com', 'admin123')\n"
     ]
    }
   ],
   "source": [
    "# print query result\n",
    "record = cursor.fetchall()\n",
    "for row in record:\n",
    "    print(row)"
   ]
  },
  {
   "cell_type": "code",
   "execution_count": null,
   "id": "ec0d9348",
   "metadata": {},
   "outputs": [],
   "source": [
    "# Close connection\n",
    "connection.close()\n",
    "print(\"MySQL connection is closed\")"
   ]
  }
 ],
 "metadata": {
  "kernelspec": {
   "display_name": "Python 3.10.2 64-bit",
   "language": "python",
   "name": "python3"
  },
  "language_info": {
   "codemirror_mode": {
    "name": "ipython",
    "version": 3
   },
   "file_extension": ".py",
   "mimetype": "text/x-python",
   "name": "python",
   "nbconvert_exporter": "python",
   "pygments_lexer": "ipython3",
   "version": "3.10.2"
  },
  "vscode": {
   "interpreter": {
    "hash": "fb4569285eef3a3450cb62085a5b1e0da4bce0af555edc33dcf29baf3acc1368"
   }
  }
 },
 "nbformat": 4,
 "nbformat_minor": 5
}
